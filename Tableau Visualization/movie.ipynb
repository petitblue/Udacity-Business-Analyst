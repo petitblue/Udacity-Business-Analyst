{
 "cells": [
  {
   "cell_type": "code",
   "execution_count": 112,
   "metadata": {
    "collapsed": true,
    "deletable": true,
    "editable": true
   },
   "outputs": [],
   "source": [
    "\n",
    "import numpy as ny\n",
    "import pandas as pd\n",
    "import matplotlib.pyplot as plt\n",
    "import seaborn as sns\n",
    "% matplotlib inline"
   ]
  },
  {
   "cell_type": "code",
   "execution_count": 113,
   "metadata": {
    "collapsed": false,
    "deletable": true,
    "editable": true
   },
   "outputs": [],
   "source": [
    "df= pd.read_csv(\"movies.csv\")"
   ]
  },
  {
   "cell_type": "code",
   "execution_count": 114,
   "metadata": {
    "collapsed": false,
    "deletable": true,
    "editable": true,
    "scrolled": true
   },
   "outputs": [
    {
     "data": {
      "text/html": [
       "<div>\n",
       "<style>\n",
       "    .dataframe thead tr:only-child th {\n",
       "        text-align: right;\n",
       "    }\n",
       "\n",
       "    .dataframe thead th {\n",
       "        text-align: left;\n",
       "    }\n",
       "\n",
       "    .dataframe tbody tr th {\n",
       "        vertical-align: top;\n",
       "    }\n",
       "</style>\n",
       "<table border=\"1\" class=\"dataframe\">\n",
       "  <thead>\n",
       "    <tr style=\"text-align: right;\">\n",
       "      <th></th>\n",
       "      <th>id</th>\n",
       "      <th>imdb_id</th>\n",
       "      <th>popularity</th>\n",
       "      <th>budget</th>\n",
       "      <th>revenue</th>\n",
       "      <th>original_title</th>\n",
       "      <th>cast</th>\n",
       "      <th>homepage</th>\n",
       "      <th>director</th>\n",
       "      <th>tagline</th>\n",
       "      <th>...</th>\n",
       "      <th>overview</th>\n",
       "      <th>runtime</th>\n",
       "      <th>genres</th>\n",
       "      <th>production_companies</th>\n",
       "      <th>release_date</th>\n",
       "      <th>vote_count</th>\n",
       "      <th>vote_average</th>\n",
       "      <th>release_year</th>\n",
       "      <th>budget_adj</th>\n",
       "      <th>revenue_adj</th>\n",
       "    </tr>\n",
       "  </thead>\n",
       "  <tbody>\n",
       "    <tr>\n",
       "      <th>0</th>\n",
       "      <td>135397</td>\n",
       "      <td>tt0369610</td>\n",
       "      <td>32.985763</td>\n",
       "      <td>150000000</td>\n",
       "      <td>1513528810</td>\n",
       "      <td>Jurassic World</td>\n",
       "      <td>Chris Pratt|Bryce Dallas Howard|Irrfan Khan|Vi...</td>\n",
       "      <td>http://www.jurassicworld.com/</td>\n",
       "      <td>Colin Trevorrow</td>\n",
       "      <td>The park is open.</td>\n",
       "      <td>...</td>\n",
       "      <td>Twenty-two years after the events of Jurassic ...</td>\n",
       "      <td>124</td>\n",
       "      <td>Action|Adventure|Science Fiction|Thriller</td>\n",
       "      <td>Universal Studios|Amblin Entertainment|Legenda...</td>\n",
       "      <td>2015-06-09</td>\n",
       "      <td>5562</td>\n",
       "      <td>6.5</td>\n",
       "      <td>2015</td>\n",
       "      <td>1.379999e+08</td>\n",
       "      <td>1.392446e+09</td>\n",
       "    </tr>\n",
       "    <tr>\n",
       "      <th>1</th>\n",
       "      <td>76341</td>\n",
       "      <td>tt1392190</td>\n",
       "      <td>28.419936</td>\n",
       "      <td>150000000</td>\n",
       "      <td>378436354</td>\n",
       "      <td>Mad Max: Fury Road</td>\n",
       "      <td>Tom Hardy|Charlize Theron|Hugh Keays-Byrne|Nic...</td>\n",
       "      <td>http://www.madmaxmovie.com/</td>\n",
       "      <td>George Miller</td>\n",
       "      <td>What a Lovely Day.</td>\n",
       "      <td>...</td>\n",
       "      <td>An apocalyptic story set in the furthest reach...</td>\n",
       "      <td>120</td>\n",
       "      <td>Action|Adventure|Science Fiction|Thriller</td>\n",
       "      <td>Village Roadshow Pictures|Kennedy Miller Produ...</td>\n",
       "      <td>2015-05-13</td>\n",
       "      <td>6185</td>\n",
       "      <td>7.1</td>\n",
       "      <td>2015</td>\n",
       "      <td>1.379999e+08</td>\n",
       "      <td>3.481613e+08</td>\n",
       "    </tr>\n",
       "  </tbody>\n",
       "</table>\n",
       "<p>2 rows × 21 columns</p>\n",
       "</div>"
      ],
      "text/plain": [
       "       id    imdb_id  popularity     budget     revenue      original_title  \\\n",
       "0  135397  tt0369610   32.985763  150000000  1513528810      Jurassic World   \n",
       "1   76341  tt1392190   28.419936  150000000   378436354  Mad Max: Fury Road   \n",
       "\n",
       "                                                cast  \\\n",
       "0  Chris Pratt|Bryce Dallas Howard|Irrfan Khan|Vi...   \n",
       "1  Tom Hardy|Charlize Theron|Hugh Keays-Byrne|Nic...   \n",
       "\n",
       "                        homepage         director             tagline  \\\n",
       "0  http://www.jurassicworld.com/  Colin Trevorrow   The park is open.   \n",
       "1    http://www.madmaxmovie.com/    George Miller  What a Lovely Day.   \n",
       "\n",
       "       ...                                                overview runtime  \\\n",
       "0      ...       Twenty-two years after the events of Jurassic ...     124   \n",
       "1      ...       An apocalyptic story set in the furthest reach...     120   \n",
       "\n",
       "                                      genres  \\\n",
       "0  Action|Adventure|Science Fiction|Thriller   \n",
       "1  Action|Adventure|Science Fiction|Thriller   \n",
       "\n",
       "                                production_companies release_date vote_count  \\\n",
       "0  Universal Studios|Amblin Entertainment|Legenda...   2015-06-09       5562   \n",
       "1  Village Roadshow Pictures|Kennedy Miller Produ...   2015-05-13       6185   \n",
       "\n",
       "   vote_average  release_year    budget_adj   revenue_adj  \n",
       "0           6.5          2015  1.379999e+08  1.392446e+09  \n",
       "1           7.1          2015  1.379999e+08  3.481613e+08  \n",
       "\n",
       "[2 rows x 21 columns]"
      ]
     },
     "execution_count": 114,
     "metadata": {},
     "output_type": "execute_result"
    }
   ],
   "source": [
    "df.head(2)"
   ]
  },
  {
   "cell_type": "code",
   "execution_count": 115,
   "metadata": {
    "collapsed": false,
    "deletable": true,
    "editable": true
   },
   "outputs": [
    {
     "name": "stdout",
     "output_type": "stream",
     "text": [
      "<class 'pandas.core.frame.DataFrame'>\n",
      "RangeIndex: 10866 entries, 0 to 10865\n",
      "Data columns (total 21 columns):\n",
      "id                      10866 non-null int64\n",
      "imdb_id                 10856 non-null object\n",
      "popularity              10866 non-null float64\n",
      "budget                  10866 non-null int64\n",
      "revenue                 10866 non-null int64\n",
      "original_title          10866 non-null object\n",
      "cast                    10790 non-null object\n",
      "homepage                2936 non-null object\n",
      "director                10822 non-null object\n",
      "tagline                 8043 non-null object\n",
      "keywords                9373 non-null object\n",
      "overview                10862 non-null object\n",
      "runtime                 10866 non-null int64\n",
      "genres                  10843 non-null object\n",
      "production_companies    9836 non-null object\n",
      "release_date            10866 non-null object\n",
      "vote_count              10866 non-null int64\n",
      "vote_average            10866 non-null float64\n",
      "release_year            10866 non-null int64\n",
      "budget_adj              10866 non-null float64\n",
      "revenue_adj             10866 non-null float64\n",
      "dtypes: float64(4), int64(6), object(11)\n",
      "memory usage: 1.7+ MB\n"
     ]
    }
   ],
   "source": [
    "df.info()"
   ]
  },
  {
   "cell_type": "code",
   "execution_count": 116,
   "metadata": {
    "collapsed": false,
    "deletable": true,
    "editable": true,
    "scrolled": true
   },
   "outputs": [
    {
     "data": {
      "text/plain": [
       "id                         0\n",
       "imdb_id                   10\n",
       "popularity                 0\n",
       "budget                     0\n",
       "revenue                    0\n",
       "original_title             0\n",
       "cast                      76\n",
       "homepage                7930\n",
       "director                  44\n",
       "tagline                 2823\n",
       "keywords                1493\n",
       "overview                   4\n",
       "runtime                    0\n",
       "genres                    23\n",
       "production_companies    1030\n",
       "release_date               0\n",
       "vote_count                 0\n",
       "vote_average               0\n",
       "release_year               0\n",
       "budget_adj                 0\n",
       "revenue_adj                0\n",
       "dtype: int64"
      ]
     },
     "execution_count": 116,
     "metadata": {},
     "output_type": "execute_result"
    }
   ],
   "source": [
    "df.isnull().sum()"
   ]
  },
  {
   "cell_type": "code",
   "execution_count": 117,
   "metadata": {
    "collapsed": true,
    "deletable": true,
    "editable": true
   },
   "outputs": [],
   "source": [
    "# homepage contains 7930 nulls - Remove field\n",
    "# genres contains 23 nulls - Remove entries"
   ]
  },
  {
   "cell_type": "code",
   "execution_count": 118,
   "metadata": {
    "collapsed": true
   },
   "outputs": [],
   "source": [
    "df=df.drop('homepage',axis=1)"
   ]
  },
  {
   "cell_type": "code",
   "execution_count": 119,
   "metadata": {
    "collapsed": false,
    "deletable": true,
    "editable": true
   },
   "outputs": [],
   "source": [
    "df= df[pd.notnull(df['genres'])]"
   ]
  },
  {
   "cell_type": "markdown",
   "metadata": {
    "collapsed": false,
    "deletable": true,
    "editable": true
   },
   "source": [
    "\n",
    "remove the rows that budget_adj or revenue_adj has a zero amount"
   ]
  },
  {
   "cell_type": "code",
   "execution_count": 120,
   "metadata": {
    "collapsed": false,
    "scrolled": true
   },
   "outputs": [
    {
     "name": "stderr",
     "output_type": "stream",
     "text": [
      "C:\\Users\\dengl\\AppData\\Local\\Enthought\\Canopy\\edm\\envs\\User\\lib\\site-packages\\ipykernel\\__main__.py:1: DeprecationWarning: \n",
      ".ix is deprecated. Please use\n",
      ".loc for label based indexing or\n",
      ".iloc for positional indexing\n",
      "\n",
      "See the documentation here:\n",
      "http://pandas.pydata.org/pandas-docs/stable/indexing.html#ix-indexer-is-deprecated\n",
      "  if __name__ == '__main__':\n",
      "C:\\Users\\dengl\\AppData\\Local\\Enthought\\Canopy\\edm\\envs\\User\\lib\\site-packages\\ipykernel\\__main__.py:2: DeprecationWarning: \n",
      ".ix is deprecated. Please use\n",
      ".loc for label based indexing or\n",
      ".iloc for positional indexing\n",
      "\n",
      "See the documentation here:\n",
      "http://pandas.pydata.org/pandas-docs/stable/indexing.html#ix-indexer-is-deprecated\n",
      "  from ipykernel import kernelapp as app\n"
     ]
    }
   ],
   "source": [
    "df=df.ix[df['budget_adj']>0]\n",
    "df=df.ix[df['revenue_adj']>0]"
   ]
  },
  {
   "cell_type": "code",
   "execution_count": null,
   "metadata": {
    "collapsed": false,
    "scrolled": false
   },
   "outputs": [],
   "source": []
  },
  {
   "cell_type": "code",
   "execution_count": 121,
   "metadata": {
    "collapsed": true
   },
   "outputs": [],
   "source": [
    "# remove null values in production_companies,keywords"
   ]
  },
  {
   "cell_type": "code",
   "execution_count": 122,
   "metadata": {
    "collapsed": true
   },
   "outputs": [],
   "source": [
    "df= df[pd.notnull(df['keywords'])]\n",
    "\n",
    "df =df[pd.notnull(df['production_companies'])]"
   ]
  },
  {
   "cell_type": "code",
   "execution_count": 123,
   "metadata": {
    "collapsed": false,
    "scrolled": true
   },
   "outputs": [
    {
     "name": "stdout",
     "output_type": "stream",
     "text": [
      "<class 'pandas.core.frame.DataFrame'>\n",
      "Int64Index: 3680 entries, 0 to 10848\n",
      "Data columns (total 20 columns):\n",
      "id                      3680 non-null int64\n",
      "imdb_id                 3680 non-null object\n",
      "popularity              3680 non-null float64\n",
      "budget                  3680 non-null int64\n",
      "revenue                 3680 non-null int64\n",
      "original_title          3680 non-null object\n",
      "cast                    3678 non-null object\n",
      "director                3680 non-null object\n",
      "tagline                 3448 non-null object\n",
      "keywords                3680 non-null object\n",
      "overview                3680 non-null object\n",
      "runtime                 3680 non-null int64\n",
      "genres                  3680 non-null object\n",
      "production_companies    3680 non-null object\n",
      "release_date            3680 non-null object\n",
      "vote_count              3680 non-null int64\n",
      "vote_average            3680 non-null float64\n",
      "release_year            3680 non-null int64\n",
      "budget_adj              3680 non-null float64\n",
      "revenue_adj             3680 non-null float64\n",
      "dtypes: float64(4), int64(6), object(10)\n",
      "memory usage: 603.8+ KB\n"
     ]
    }
   ],
   "source": [
    "df.info()"
   ]
  },
  {
   "cell_type": "code",
   "execution_count": 124,
   "metadata": {
    "collapsed": false,
    "deletable": true,
    "editable": true,
    "scrolled": true
   },
   "outputs": [
    {
     "data": {
      "image/png": "[encoded data removed]",
      "text/plain": [
       "<matplotlib.figure.Figure at 0x1f38f160>"
      ]
     },
     "metadata": {},
     "output_type": "display_data"
    }
   ],
   "source": [
    "plt.figure (figsize=(12,6))\n",
    "ax = sns.countplot(df[\"release_year\"],color='b')\n",
    "plt.xticks(rotation=90)\n",
    "# ax.set_xticklabels(movie[\"release_year\"], rotation=90,fontsize=15)\n",
    "plt.title('Number of Movies released by year', \n",
    "          fontdict={'fontsize': 15})\n",
    "plt.show()"
   ]
  },
  {
   "cell_type": "code",
   "execution_count": 125,
   "metadata": {
    "collapsed": true,
    "deletable": true,
    "editable": true
   },
   "outputs": [],
   "source": [
    "import csv"
   ]
  },
  {
   "cell_type": "code",
   "execution_count": 126,
   "metadata": {
    "collapsed": false
   },
   "outputs": [],
   "source": [
    "df.to_csv('cleaned_movie.csv')"
   ]
  },
  {
   "cell_type": "markdown",
   "metadata": {
    "deletable": true,
    "editable": true
   },
   "source": [
    "Question 1: How have movie genres changed over time?\n"
   ]
  },
  {
   "cell_type": "code",
   "execution_count": 127,
   "metadata": {
    "collapsed": true,
    "deletable": true,
    "editable": true
   },
   "outputs": [],
   "source": [
    "genres= df['genres'].unique()\n",
    "df['genres']=df['genres'].apply(lambda x:str(x).split('|')[0])\n",
    "data = df.loc[:,['id','release_year','genres']]\n"
   ]
  },
  {
   "cell_type": "code",
   "execution_count": 128,
   "metadata": {
    "collapsed": false,
    "deletable": true,
    "editable": true,
    "scrolled": true
   },
   "outputs": [
    {
     "data": {
      "text/html": [
       "<div>\n",
       "<style>\n",
       "    .dataframe thead tr:only-child th {\n",
       "        text-align: right;\n",
       "    }\n",
       "\n",
       "    .dataframe thead th {\n",
       "        text-align: left;\n",
       "    }\n",
       "\n",
       "    .dataframe tbody tr th {\n",
       "        vertical-align: top;\n",
       "    }\n",
       "</style>\n",
       "<table border=\"1\" class=\"dataframe\">\n",
       "  <thead>\n",
       "    <tr style=\"text-align: right;\">\n",
       "      <th></th>\n",
       "      <th>id</th>\n",
       "      <th>release_year</th>\n",
       "      <th>genres</th>\n",
       "    </tr>\n",
       "  </thead>\n",
       "  <tbody>\n",
       "    <tr>\n",
       "      <th>0</th>\n",
       "      <td>135397</td>\n",
       "      <td>2015</td>\n",
       "      <td>Action</td>\n",
       "    </tr>\n",
       "    <tr>\n",
       "      <th>1</th>\n",
       "      <td>76341</td>\n",
       "      <td>2015</td>\n",
       "      <td>Action</td>\n",
       "    </tr>\n",
       "    <tr>\n",
       "      <th>2</th>\n",
       "      <td>262500</td>\n",
       "      <td>2015</td>\n",
       "      <td>Adventure</td>\n",
       "    </tr>\n",
       "    <tr>\n",
       "      <th>3</th>\n",
       "      <td>140607</td>\n",
       "      <td>2015</td>\n",
       "      <td>Action</td>\n",
       "    </tr>\n",
       "    <tr>\n",
       "      <th>4</th>\n",
       "      <td>168259</td>\n",
       "      <td>2015</td>\n",
       "      <td>Action</td>\n",
       "    </tr>\n",
       "  </tbody>\n",
       "</table>\n",
       "</div>"
      ],
      "text/plain": [
       "       id  release_year     genres\n",
       "0  135397          2015     Action\n",
       "1   76341          2015     Action\n",
       "2  262500          2015  Adventure\n",
       "3  140607          2015     Action\n",
       "4  168259          2015     Action"
      ]
     },
     "execution_count": 128,
     "metadata": {},
     "output_type": "execute_result"
    }
   ],
   "source": [
    "data.head()"
   ]
  },
  {
   "cell_type": "code",
   "execution_count": 129,
   "metadata": {
    "collapsed": false,
    "deletable": true,
    "editable": true,
    "scrolled": true
   },
   "outputs": [
    {
     "data": {
      "text/plain": [
       "<matplotlib.axes._subplots.AxesSubplot at 0x1bdec518>"
      ]
     },
     "execution_count": 129,
     "metadata": {},
     "output_type": "execute_result"
    },
    {
     "data": {
      "image/png": "[encoded data removed]",
      "text/plain": [
       "<matplotlib.figure.Figure at 0x1ff10ef0>"
      ]
     },
     "metadata": {},
     "output_type": "display_data"
    }
   ],
   "source": [
    "plt.figure (figsize=(18,6))\n",
    "sns.countplot(x='release_year',hue='genres',data=data[data[\"release_year\"]>1989])"
   ]
  },
  {
   "cell_type": "markdown",
   "metadata": {},
   "source": [
    "Q 2: How do the attributes differ between Universal Pictures and Paramount Pictures?"
   ]
  },
  {
   "cell_type": "code",
   "execution_count": 140,
   "metadata": {
    "collapsed": true
   },
   "outputs": [],
   "source": [
    "df= df[pd.notnull(df['tagline'])]"
   ]
  },
  {
   "cell_type": "code",
   "execution_count": 161,
   "metadata": {
    "collapsed": false
   },
   "outputs": [],
   "source": [
    "df['production_companies']=df['production_companies'].apply(lambda x:str(x).split('|')[0])\n",
    "data2 = df.loc[:,[\"id\",\"original_title\",\"popularity\",\"budget_adj\", \"revenue_adj\", \"tagline\", \n",
    "                 \"keywords\",\"genres\",\"production_companies\", \"vote_average\",\"release_year\"]]\n"
   ]
  },
  {
   "cell_type": "code",
   "execution_count": null,
   "metadata": {
    "collapsed": true
   },
   "outputs": [],
   "source": []
  },
  {
   "cell_type": "code",
   "execution_count": 162,
   "metadata": {
    "collapsed": false
   },
   "outputs": [
    {
     "name": "stdout",
     "output_type": "stream",
     "text": [
      "<class 'pandas.core.frame.DataFrame'>\n",
      "Int64Index: 3448 entries, 0 to 10848\n",
      "Data columns (total 11 columns):\n",
      "id                      3448 non-null int64\n",
      "original_title          3448 non-null object\n",
      "popularity              3448 non-null float64\n",
      "budget_adj              3448 non-null float64\n",
      "revenue_adj             3448 non-null float64\n",
      "tagline                 3448 non-null object\n",
      "keywords                3448 non-null object\n",
      "genres                  3448 non-null object\n",
      "production_companies    3448 non-null object\n",
      "vote_average            3448 non-null float64\n",
      "release_year            3448 non-null int64\n",
      "dtypes: float64(4), int64(2), object(5)\n",
      "memory usage: 483.2+ KB\n"
     ]
    }
   ],
   "source": [
    "data2.info()"
   ]
  },
  {
   "cell_type": "code",
   "execution_count": 163,
   "metadata": {
    "collapsed": false,
    "scrolled": true
   },
   "outputs": [],
   "source": [
    "data2['production_companies']=data2['production_companies'].replace(['Universal','Universal Pictures Corporation',\n",
    "                                       'Universal Studios','Universal TV'],'Universal Pictures')\n"
   ]
  },
  {
   "cell_type": "code",
   "execution_count": 164,
   "metadata": {
    "collapsed": false
   },
   "outputs": [],
   "source": [
    "data2['production_companies']=data2['production_companies'].replace(['Paramount Classics','Paramount Vantage'],'Paramount Pictures')"
   ]
  },
  {
   "cell_type": "code",
   "execution_count": 165,
   "metadata": {
    "collapsed": false,
    "scrolled": true
   },
   "outputs": [
    {
     "data": {
      "text/plain": [
       "0                            Universal Pictures\n",
       "1                     Village Roadshow Pictures\n",
       "2                          Summit Entertainment\n",
       "3                                     Lucasfilm\n",
       "4                            Universal Pictures\n",
       "5                           Regency Enterprises\n",
       "6                            Paramount Pictures\n",
       "7        Twentieth Century Fox Film Corporation\n",
       "8                            Universal Pictures\n",
       "9                          Walt Disney Pictures\n",
       "10                            Columbia Pictures\n",
       "11                    Village Roadshow Pictures\n",
       "12                                    DNA Films\n",
       "13                            Columbia Pictures\n",
       "14                               Marvel Studios\n",
       "15                         Double Feature Films\n",
       "16       Twentieth Century Fox Film Corporation\n",
       "17                               Marvel Studios\n",
       "18                         Walt Disney Pictures\n",
       "19                            Studio Babelsberg\n",
       "20                         Walt Disney Pictures\n",
       "21                               Escape Artists\n",
       "22                              New Line Cinema\n",
       "23                               Focus Features\n",
       "24                           Paramount Pictures\n",
       "25                           Paramount Pictures\n",
       "26                           Universal Pictures\n",
       "27       Twentieth Century Fox Film Corporation\n",
       "28                            Participant Media\n",
       "29                                 Gotham Group\n",
       "                          ...                  \n",
       "10665                       Cinema Center Films\n",
       "10683            The Mirisch Production Company\n",
       "10689                           Eon Productions\n",
       "10690                   Robert Wise Productions\n",
       "10691                 Metro-Goldwyn-Mayer (MGM)\n",
       "10692         Twentieth Century-Fox Productions\n",
       "10724                           Eon Productions\n",
       "10725    Twentieth Century Fox Film Corporation\n",
       "10727                            United Artists\n",
       "10728                Warner Brothers/Seven Arts\n",
       "10755                        Paramount Pictures\n",
       "10756                        Universal Pictures\n",
       "10757                              Laurel Group\n",
       "10758                              Warner Bros.\n",
       "10759            Compass International Pictures\n",
       "10760                        Universal Pictures\n",
       "10762                        Universal Pictures\n",
       "10770                         Columbia Pictures\n",
       "10771                             Fantasy Films\n",
       "10775                            EMI Films Ltd.\n",
       "10779                            EMI Films Ltd.\n",
       "10780                            United Artists\n",
       "10788                        Universal Pictures\n",
       "10791    Twentieth Century Fox Film Corporation\n",
       "10793                      Nepenthe Productions\n",
       "10822                      Chenault Productions\n",
       "10828                        Universal Pictures\n",
       "10829                        Paramount Pictures\n",
       "10835    Twentieth Century Fox Film Corporation\n",
       "10848    Twentieth Century Fox Film Corporation\n",
       "Name: production_companies, Length: 3448, dtype: object"
      ]
     },
     "execution_count": 165,
     "metadata": {},
     "output_type": "execute_result"
    }
   ],
   "source": [
    "data2['production_companies']"
   ]
  },
  {
   "cell_type": "code",
   "execution_count": null,
   "metadata": {
    "collapsed": false
   },
   "outputs": [],
   "source": []
  },
  {
   "cell_type": "code",
   "execution_count": 166,
   "metadata": {
    "collapsed": false
   },
   "outputs": [],
   "source": [
    "data2.to_csv('companies.csv')"
   ]
  },
  {
   "cell_type": "code",
   "execution_count": 167,
   "metadata": {
    "collapsed": false
   },
   "outputs": [
    {
     "name": "stderr",
     "output_type": "stream",
     "text": [
      "C:\\Users\\dengl\\AppData\\Local\\Enthought\\Canopy\\edm\\envs\\User\\lib\\site-packages\\ipykernel\\__main__.py:1: DeprecationWarning: \n",
      ".ix is deprecated. Please use\n",
      ".loc for label based indexing or\n",
      ".iloc for positional indexing\n",
      "\n",
      "See the documentation here:\n",
      "http://pandas.pydata.org/pandas-docs/stable/indexing.html#ix-indexer-is-deprecated\n",
      "  if __name__ == '__main__':\n"
     ]
    }
   ],
   "source": [
    "uni = data2.ix[data2['production_companies']=='Universal Pictures']\n",
    "par = data2.ix[data2['production_companies']=='Paramount Pictures']"
   ]
  },
  {
   "cell_type": "code",
   "execution_count": 168,
   "metadata": {
    "collapsed": false
   },
   "outputs": [
    {
     "data": {
      "text/html": [
       "<div>\n",
       "<style>\n",
       "    .dataframe thead tr:only-child th {\n",
       "        text-align: right;\n",
       "    }\n",
       "\n",
       "    .dataframe thead th {\n",
       "        text-align: left;\n",
       "    }\n",
       "\n",
       "    .dataframe tbody tr th {\n",
       "        vertical-align: top;\n",
       "    }\n",
       "</style>\n",
       "<table border=\"1\" class=\"dataframe\">\n",
       "  <thead>\n",
       "    <tr style=\"text-align: right;\">\n",
       "      <th></th>\n",
       "      <th>id</th>\n",
       "      <th>original_title</th>\n",
       "      <th>popularity</th>\n",
       "      <th>budget_adj</th>\n",
       "      <th>revenue_adj</th>\n",
       "      <th>tagline</th>\n",
       "      <th>keywords</th>\n",
       "      <th>genres</th>\n",
       "      <th>production_companies</th>\n",
       "      <th>vote_average</th>\n",
       "      <th>release_year</th>\n",
       "    </tr>\n",
       "  </thead>\n",
       "  <tbody>\n",
       "    <tr>\n",
       "      <th>6</th>\n",
       "      <td>87101</td>\n",
       "      <td>Terminator Genisys</td>\n",
       "      <td>8.654359</td>\n",
       "      <td>1.425999e+08</td>\n",
       "      <td>4.053551e+08</td>\n",
       "      <td>Reset the future</td>\n",
       "      <td>saving the world|artificial intelligence|cybor...</td>\n",
       "      <td>Science Fiction</td>\n",
       "      <td>Paramount Pictures</td>\n",
       "      <td>5.8</td>\n",
       "      <td>2015</td>\n",
       "    </tr>\n",
       "    <tr>\n",
       "      <th>24</th>\n",
       "      <td>318846</td>\n",
       "      <td>The Big Short</td>\n",
       "      <td>4.648046</td>\n",
       "      <td>2.575999e+07</td>\n",
       "      <td>1.226787e+08</td>\n",
       "      <td>This is a true story.</td>\n",
       "      <td>bank|fraud|biography|wall street|finances</td>\n",
       "      <td>Comedy</td>\n",
       "      <td>Paramount Pictures</td>\n",
       "      <td>7.3</td>\n",
       "      <td>2015</td>\n",
       "    </tr>\n",
       "    <tr>\n",
       "      <th>25</th>\n",
       "      <td>177677</td>\n",
       "      <td>Mission: Impossible - Rogue Nation</td>\n",
       "      <td>4.566713</td>\n",
       "      <td>1.379999e+08</td>\n",
       "      <td>6.277435e+08</td>\n",
       "      <td>Desperate Times. Desperate Measures.</td>\n",
       "      <td>spy|sequel|mission</td>\n",
       "      <td>Action</td>\n",
       "      <td>Paramount Pictures</td>\n",
       "      <td>7.1</td>\n",
       "      <td>2015</td>\n",
       "    </tr>\n",
       "    <tr>\n",
       "      <th>91</th>\n",
       "      <td>274167</td>\n",
       "      <td>Daddy's Home</td>\n",
       "      <td>1.904898</td>\n",
       "      <td>4.599998e+07</td>\n",
       "      <td>2.211315e+08</td>\n",
       "      <td>Choose your Daddy</td>\n",
       "      <td>daddys home</td>\n",
       "      <td>Comedy</td>\n",
       "      <td>Paramount Pictures</td>\n",
       "      <td>5.7</td>\n",
       "      <td>2015</td>\n",
       "    </tr>\n",
       "    <tr>\n",
       "      <th>106</th>\n",
       "      <td>273477</td>\n",
       "      <td>Scouts Guide to the Zombie Apocalypse</td>\n",
       "      <td>1.499614</td>\n",
       "      <td>1.379999e+07</td>\n",
       "      <td>1.367190e+07</td>\n",
       "      <td>Always bring protection.</td>\n",
       "      <td>female nudity|shotgun|nudity|strip club|party</td>\n",
       "      <td>Comedy</td>\n",
       "      <td>Paramount Pictures</td>\n",
       "      <td>6.2</td>\n",
       "      <td>2015</td>\n",
       "    </tr>\n",
       "  </tbody>\n",
       "</table>\n",
       "</div>"
      ],
      "text/plain": [
       "         id                         original_title  popularity    budget_adj  \\\n",
       "6     87101                     Terminator Genisys    8.654359  1.425999e+08   \n",
       "24   318846                          The Big Short    4.648046  2.575999e+07   \n",
       "25   177677     Mission: Impossible - Rogue Nation    4.566713  1.379999e+08   \n",
       "91   274167                           Daddy's Home    1.904898  4.599998e+07   \n",
       "106  273477  Scouts Guide to the Zombie Apocalypse    1.499614  1.379999e+07   \n",
       "\n",
       "      revenue_adj                               tagline  \\\n",
       "6    4.053551e+08                      Reset the future   \n",
       "24   1.226787e+08                 This is a true story.   \n",
       "25   6.277435e+08  Desperate Times. Desperate Measures.   \n",
       "91   2.211315e+08                     Choose your Daddy   \n",
       "106  1.367190e+07              Always bring protection.   \n",
       "\n",
       "                                              keywords           genres  \\\n",
       "6    saving the world|artificial intelligence|cybor...  Science Fiction   \n",
       "24           bank|fraud|biography|wall street|finances           Comedy   \n",
       "25                                  spy|sequel|mission           Action   \n",
       "91                                         daddys home           Comedy   \n",
       "106      female nudity|shotgun|nudity|strip club|party           Comedy   \n",
       "\n",
       "    production_companies  vote_average  release_year  \n",
       "6     Paramount Pictures           5.8          2015  \n",
       "24    Paramount Pictures           7.3          2015  \n",
       "25    Paramount Pictures           7.1          2015  \n",
       "91    Paramount Pictures           5.7          2015  \n",
       "106   Paramount Pictures           6.2          2015  "
      ]
     },
     "execution_count": 168,
     "metadata": {},
     "output_type": "execute_result"
    }
   ],
   "source": [
    "uni.head()\n",
    "par.head()"
   ]
  },
  {
   "cell_type": "markdown",
   "metadata": {},
   "source": [
    "Question 3: How have movies based on novels performed relative to movies not based on novels?"
   ]
  },
  {
   "cell_type": "code",
   "execution_count": null,
   "metadata": {
    "collapsed": false
   },
   "outputs": [],
   "source": [
    "# count 'novel'"
   ]
  },
  {
   "cell_type": "code",
   "execution_count": 176,
   "metadata": {
    "collapsed": false
   },
   "outputs": [
    {
     "name": "stdout",
     "output_type": "stream",
     "text": [
      "(164, 3448)\n"
     ]
    }
   ],
   "source": [
    "total= data2.shape[0]\n",
    "wd_count =0\n",
    "for i,keyword in data2['keywords'].iteritems():\n",
    "    if 'novel' in keyword:\n",
    "        wd_count += 1\n",
    "print (wd_count,total)"
   ]
  },
  {
   "cell_type": "code",
   "execution_count": 183,
   "metadata": {
    "collapsed": true
   },
   "outputs": [],
   "source": [
    "data3 = data2.loc[:,[\"id\",\"original_title\",\"popularity\",\"budget_adj\", \"revenue_adj\", \"tagline\", \n",
    "                 \"keywords\",\"genres\",\"production_companies\",\"vote_average\",\"release_year\"]]"
   ]
  },
  {
   "cell_type": "code",
   "execution_count": 186,
   "metadata": {
    "collapsed": false
   },
   "outputs": [],
   "source": [
    "data3 ['novel'] = data3['keywords'].apply(lambda x: \"novel\" in x)\n",
    "\n",
    "d = data3"
   ]
  },
  {
   "cell_type": "code",
   "execution_count": 187,
   "metadata": {
    "collapsed": false,
    "scrolled": false
   },
   "outputs": [
    {
     "name": "stdout",
     "output_type": "stream",
     "text": [
      "<class 'pandas.core.frame.DataFrame'>\n",
      "Int64Index: 3448 entries, 0 to 10848\n",
      "Data columns (total 12 columns):\n",
      "id                      3448 non-null int64\n",
      "original_title          3448 non-null object\n",
      "popularity              3448 non-null float64\n",
      "budget_adj              3448 non-null float64\n",
      "revenue_adj             3448 non-null float64\n",
      "tagline                 3448 non-null object\n",
      "keywords                3448 non-null object\n",
      "genres                  3448 non-null object\n",
      "production_companies    3448 non-null object\n",
      "vote_average            3448 non-null float64\n",
      "release_year            3448 non-null int64\n",
      "novel                   3448 non-null bool\n",
      "dtypes: bool(1), float64(4), int64(2), object(5)\n",
      "memory usage: 486.6+ KB\n"
     ]
    }
   ],
   "source": [
    "d.info()"
   ]
  },
  {
   "cell_type": "code",
   "execution_count": 188,
   "metadata": {
    "collapsed": true
   },
   "outputs": [],
   "source": [
    "d.to_csv('novel movie.csv')"
   ]
  }
 ],
 "metadata": {
  "anaconda-cloud": {},
  "kernelspec": {
   "display_name": "Python 2",
   "language": "python",
   "name": "python2"
  },
  "language_info": {
   "codemirror_mode": {
    "name": "ipython",
    "version": 2
   },
   "file_extension": ".py",
   "mimetype": "text/x-python",
   "name": "python",
   "nbconvert_exporter": "python",
   "pygments_lexer": "ipython2",
   "version": "2.7.13"
  }
 },
 "nbformat": 4,
 "nbformat_minor": 1
}
